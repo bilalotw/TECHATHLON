{
  "nbformat": 4,
  "nbformat_minor": 0,
  "metadata": {
    "colab": {
      "provenance": [],
      "gpuType": "T4",
      "include_colab_link": true
    },
    "kernelspec": {
      "name": "python3",
      "display_name": "Python 3"
    },
    "language_info": {
      "name": "python"
    },
    "accelerator": "GPU"
  },
  "cells": [
    {
      "cell_type": "markdown",
      "metadata": {
        "id": "view-in-github",
        "colab_type": "text"
      },
      "source": [
        "<a href=\"https://colab.research.google.com/github/bilalotw/TECHATHLON/blob/main/Redsoc_ipnyb.ipynb\" target=\"_parent\"><img src=\"https://colab.research.google.com/assets/colab-badge.svg\" alt=\"Open In Colab\"/></a>"
      ]
    },
    {
      "cell_type": "markdown",
      "source": [
        "### **Preparing the model**"
      ],
      "metadata": {
        "id": "StZfW-SGXP-2"
      }
    },
    {
      "cell_type": "code",
      "source": [
        "from google.colab import drive\n",
        "drive.mount('/content/drive')"
      ],
      "metadata": {
        "id": "I2cJVaRiCor-",
        "outputId": "cf4729d8-d15c-43a8-8d5a-7eac9725832e",
        "colab": {
          "base_uri": "https://localhost:8080/"
        }
      },
      "execution_count": 1,
      "outputs": [
        {
          "output_type": "stream",
          "name": "stdout",
          "text": [
            "Mounted at /content/drive\n"
          ]
        }
      ]
    },
    {
      "cell_type": "code",
      "execution_count": 2,
      "metadata": {
        "colab": {
          "base_uri": "https://localhost:8080/"
        },
        "id": "uCVW4yPjtD32",
        "outputId": "968c54da-099b-4725-ee30-36bdf8acc18b"
      },
      "outputs": [
        {
          "output_type": "stream",
          "name": "stdout",
          "text": [
            "Found 2520 images belonging to 3 classes.\n",
            "Found 0 images belonging to 0 classes.\n",
            "Found 372 images belonging to 3 classes.\n",
            "Epoch 1/10\n",
            "79/79 [==============================] - 449s 6s/step - loss: 1.3295 - accuracy: 0.4254\n",
            "Epoch 2/10\n",
            "79/79 [==============================] - 66s 839ms/step - loss: 0.6755 - accuracy: 0.7020\n",
            "Epoch 3/10\n",
            "79/79 [==============================] - 66s 831ms/step - loss: 0.4894 - accuracy: 0.8016\n",
            "Epoch 4/10\n",
            "79/79 [==============================] - 66s 829ms/step - loss: 0.3454 - accuracy: 0.8726\n",
            "Epoch 5/10\n",
            "79/79 [==============================] - 67s 847ms/step - loss: 0.3051 - accuracy: 0.8996\n",
            "Epoch 6/10\n",
            "79/79 [==============================] - 70s 881ms/step - loss: 0.2444 - accuracy: 0.9155\n",
            "Epoch 7/10\n",
            "79/79 [==============================] - 68s 856ms/step - loss: 0.2057 - accuracy: 0.9298\n",
            "Epoch 8/10\n",
            "79/79 [==============================] - 68s 858ms/step - loss: 0.1770 - accuracy: 0.9401\n",
            "Epoch 9/10\n",
            "79/79 [==============================] - 67s 842ms/step - loss: 0.1421 - accuracy: 0.9536\n",
            "Epoch 10/10\n",
            "79/79 [==============================] - 67s 841ms/step - loss: 0.1079 - accuracy: 0.9639\n",
            "12/12 [==============================] - 85s 8s/step - loss: 0.1180 - accuracy: 0.9355\n",
            "Test accuracy: 0.9354838728904724\n"
          ]
        }
      ],
      "source": [
        "import tensorflow as tf\n",
        "from tensorflow.keras.preprocessing.image import ImageDataGenerator\n",
        "from tensorflow.keras import layers, models\n",
        "\n",
        "# Set the paths to your train, validation, and test data folders\n",
        "train_data_dir = '/content/drive/MyDrive/datsetrockpaperscis/train'\n",
        "val_data_dir = '/content/drive/MyDrive/datsetrockpaperscis/validation'\n",
        "test_data_dir = '/content/drive/MyDrive/datsetrockpaperscis/test'\n",
        "\n",
        "# Create an ImageDataGenerator object for data augmentation\n",
        "train_datagen = ImageDataGenerator(\n",
        "    rescale=1.0/255.0,              # Rescale pixel values to be between 0 and 1\n",
        "    rotation_range=20,              # Randomly rotate images up to 20 degrees\n",
        "    width_shift_range=0.2,          # Randomly shift images horizontally by up to 20% of width\n",
        "    height_shift_range=0.2,         # Randomly shift images vertically by up to 20% of height\n",
        "    shear_range=0.2,                # Apply shear transformation within the range of 0.2\n",
        "    zoom_range=0.2,                 # Randomly zoom in/out by up to 20%\n",
        "    horizontal_flip=True,           # Randomly flip images horizontally\n",
        "    fill_mode='nearest'             # Strategy to fill new pixels created by transformations\n",
        ")\n",
        "\n",
        "# Validation and test data preprocessing\n",
        "val_test_datagen = ImageDataGenerator(rescale=1.0/255.0) # Rescale pixel values to be between 0 and 1\n",
        "\n",
        "# Create data generator for training data\n",
        "train_generator = train_datagen.flow_from_directory(\n",
        "    train_data_dir,         # Directory containing training images\n",
        "    target_size=(300, 300), # Resize images to this size\n",
        "    batch_size=32,          # Number of images in each batch\n",
        "    class_mode='categorical' # Specify class mode for one-hot encoded labels\n",
        ")\n",
        "\n",
        "# Create data generator for validation data\n",
        "val_generator = val_test_datagen.flow_from_directory(\n",
        "    val_data_dir,           # Directory containing validation images\n",
        "    target_size=(300, 300), # Resize images to this size\n",
        "    batch_size=32,          # Number of images in each batch\n",
        "    class_mode='categorical' # Specify class mode for one-hot encoded labels\n",
        ")\n",
        "\n",
        "# Create data generator for test data\n",
        "test_generator = val_test_datagen.flow_from_directory(\n",
        "    test_data_dir,          # Directory containing test images\n",
        "    target_size=(300, 300), # Resize images to this size\n",
        "    batch_size=32,          # Number of images in each batch\n",
        "    class_mode='categorical' # Specify class mode for one-hot encoded labels\n",
        ")\n",
        "\n",
        "# Define the model architecture\n",
        "model = models.Sequential([\n",
        "    layers.Conv2D(32, (3, 3), activation='relu', input_shape=(300, 300, 3)), # Convolutional layer with 32 filters, 3x3 kernel, and ReLU activation\n",
        "    layers.MaxPooling2D((2, 2)), # Max pooling layer with 2x2 pool size\n",
        "    layers.Conv2D(64, (3, 3), activation='relu'), # Convolutional layer with 64 filters, 3x3 kernel, and ReLU activation\n",
        "    layers.MaxPooling2D((2, 2)), # Max pooling layer with 2x2 pool size\n",
        "    layers.Conv2D(128, (3, 3), activation='relu'), # Convolutional layer with 128 filters, 3x3 kernel, and ReLU activation\n",
        "    layers.MaxPooling2D((2, 2)), # Max pooling layer with 2x2 pool size\n",
        "    layers.Flatten(), # Flatten layer to convert 2D feature maps into a 1D vector\n",
        "    layers.Dense(128, activation='relu'), # Fully connected layer with 128 units and ReLU activation\n",
        "    layers.Dense(3, activation='softmax')  # Fully connected layer with 3 units and softmax activation for multi-class classification\n",
        "])\n",
        "\n",
        "# Compile the model\n",
        "model.compile(optimizer='adam', loss='categorical_crossentropy', metrics=['accuracy'])\n",
        "\n",
        "# Train the model\n",
        "history = model.fit(train_generator, epochs=10, validation_data=val_generator)\n",
        "\n",
        "# Evaluate the model\n",
        "test_loss, test_acc = model.evaluate(test_generator)\n",
        "print(\"Test accuracy:\", test_acc)\n"
      ]
    },
    {
      "cell_type": "markdown",
      "source": [
        "### **Manually uploading file**"
      ],
      "metadata": {
        "id": "eplOHrb6Xeqk"
      }
    },
    {
      "cell_type": "code",
      "source": [
        "from google.colab import files\n",
        "import numpy as np\n",
        "from tensorflow.keras.preprocessing import image\n",
        "\n",
        "# Upload an image\n",
        "uploaded = files.upload()\n",
        "\n",
        "# Get the uploaded image file name\n",
        "uploaded_image_filename = list(uploaded.keys())[0]\n",
        "\n",
        "# Preprocess the uploaded image\n",
        "img = image.load_img(uploaded_image_filename, target_size=(300, 300))\n",
        "img_array = image.img_to_array(img)\n",
        "img_array = np.expand_dims(img_array, axis=0)\n",
        "img_array /= 255.0  # Normalize pixel values\n",
        "\n",
        "# Make predictions\n",
        "predictions = model.predict(img_array)\n",
        "predicted_class_index = np.argmax(predictions)\n",
        "\n",
        "# Map class index to class label\n",
        "class_labels = ['Rock', 'Paper', 'Scissors']\n",
        "predicted_class_label = class_labels[predicted_class_index]\n",
        "\n",
        "print(\"Predicted class:\", predicted_class_label)\n",
        "print(\"Predicted probabilities:\", predictions)\n"
      ],
      "metadata": {
        "colab": {
          "base_uri": "https://localhost:8080/",
          "height": 128
        },
        "id": "HyJFlMpsVADO",
        "outputId": "3e97d53b-9383-45c1-e796-fe5f49ae5e53"
      },
      "execution_count": 3,
      "outputs": [
        {
          "output_type": "display_data",
          "data": {
            "text/plain": [
              "<IPython.core.display.HTML object>"
            ],
            "text/html": [
              "\n",
              "     <input type=\"file\" id=\"files-1d950d52-edc3-4fe6-bf46-47c3ca3817a3\" name=\"files[]\" multiple disabled\n",
              "        style=\"border:none\" />\n",
              "     <output id=\"result-1d950d52-edc3-4fe6-bf46-47c3ca3817a3\">\n",
              "      Upload widget is only available when the cell has been executed in the\n",
              "      current browser session. Please rerun this cell to enable.\n",
              "      </output>\n",
              "      <script>// Copyright 2017 Google LLC\n",
              "//\n",
              "// Licensed under the Apache License, Version 2.0 (the \"License\");\n",
              "// you may not use this file except in compliance with the License.\n",
              "// You may obtain a copy of the License at\n",
              "//\n",
              "//      http://www.apache.org/licenses/LICENSE-2.0\n",
              "//\n",
              "// Unless required by applicable law or agreed to in writing, software\n",
              "// distributed under the License is distributed on an \"AS IS\" BASIS,\n",
              "// WITHOUT WARRANTIES OR CONDITIONS OF ANY KIND, either express or implied.\n",
              "// See the License for the specific language governing permissions and\n",
              "// limitations under the License.\n",
              "\n",
              "/**\n",
              " * @fileoverview Helpers for google.colab Python module.\n",
              " */\n",
              "(function(scope) {\n",
              "function span(text, styleAttributes = {}) {\n",
              "  const element = document.createElement('span');\n",
              "  element.textContent = text;\n",
              "  for (const key of Object.keys(styleAttributes)) {\n",
              "    element.style[key] = styleAttributes[key];\n",
              "  }\n",
              "  return element;\n",
              "}\n",
              "\n",
              "// Max number of bytes which will be uploaded at a time.\n",
              "const MAX_PAYLOAD_SIZE = 100 * 1024;\n",
              "\n",
              "function _uploadFiles(inputId, outputId) {\n",
              "  const steps = uploadFilesStep(inputId, outputId);\n",
              "  const outputElement = document.getElementById(outputId);\n",
              "  // Cache steps on the outputElement to make it available for the next call\n",
              "  // to uploadFilesContinue from Python.\n",
              "  outputElement.steps = steps;\n",
              "\n",
              "  return _uploadFilesContinue(outputId);\n",
              "}\n",
              "\n",
              "// This is roughly an async generator (not supported in the browser yet),\n",
              "// where there are multiple asynchronous steps and the Python side is going\n",
              "// to poll for completion of each step.\n",
              "// This uses a Promise to block the python side on completion of each step,\n",
              "// then passes the result of the previous step as the input to the next step.\n",
              "function _uploadFilesContinue(outputId) {\n",
              "  const outputElement = document.getElementById(outputId);\n",
              "  const steps = outputElement.steps;\n",
              "\n",
              "  const next = steps.next(outputElement.lastPromiseValue);\n",
              "  return Promise.resolve(next.value.promise).then((value) => {\n",
              "    // Cache the last promise value to make it available to the next\n",
              "    // step of the generator.\n",
              "    outputElement.lastPromiseValue = value;\n",
              "    return next.value.response;\n",
              "  });\n",
              "}\n",
              "\n",
              "/**\n",
              " * Generator function which is called between each async step of the upload\n",
              " * process.\n",
              " * @param {string} inputId Element ID of the input file picker element.\n",
              " * @param {string} outputId Element ID of the output display.\n",
              " * @return {!Iterable<!Object>} Iterable of next steps.\n",
              " */\n",
              "function* uploadFilesStep(inputId, outputId) {\n",
              "  const inputElement = document.getElementById(inputId);\n",
              "  inputElement.disabled = false;\n",
              "\n",
              "  const outputElement = document.getElementById(outputId);\n",
              "  outputElement.innerHTML = '';\n",
              "\n",
              "  const pickedPromise = new Promise((resolve) => {\n",
              "    inputElement.addEventListener('change', (e) => {\n",
              "      resolve(e.target.files);\n",
              "    });\n",
              "  });\n",
              "\n",
              "  const cancel = document.createElement('button');\n",
              "  inputElement.parentElement.appendChild(cancel);\n",
              "  cancel.textContent = 'Cancel upload';\n",
              "  const cancelPromise = new Promise((resolve) => {\n",
              "    cancel.onclick = () => {\n",
              "      resolve(null);\n",
              "    };\n",
              "  });\n",
              "\n",
              "  // Wait for the user to pick the files.\n",
              "  const files = yield {\n",
              "    promise: Promise.race([pickedPromise, cancelPromise]),\n",
              "    response: {\n",
              "      action: 'starting',\n",
              "    }\n",
              "  };\n",
              "\n",
              "  cancel.remove();\n",
              "\n",
              "  // Disable the input element since further picks are not allowed.\n",
              "  inputElement.disabled = true;\n",
              "\n",
              "  if (!files) {\n",
              "    return {\n",
              "      response: {\n",
              "        action: 'complete',\n",
              "      }\n",
              "    };\n",
              "  }\n",
              "\n",
              "  for (const file of files) {\n",
              "    const li = document.createElement('li');\n",
              "    li.append(span(file.name, {fontWeight: 'bold'}));\n",
              "    li.append(span(\n",
              "        `(${file.type || 'n/a'}) - ${file.size} bytes, ` +\n",
              "        `last modified: ${\n",
              "            file.lastModifiedDate ? file.lastModifiedDate.toLocaleDateString() :\n",
              "                                    'n/a'} - `));\n",
              "    const percent = span('0% done');\n",
              "    li.appendChild(percent);\n",
              "\n",
              "    outputElement.appendChild(li);\n",
              "\n",
              "    const fileDataPromise = new Promise((resolve) => {\n",
              "      const reader = new FileReader();\n",
              "      reader.onload = (e) => {\n",
              "        resolve(e.target.result);\n",
              "      };\n",
              "      reader.readAsArrayBuffer(file);\n",
              "    });\n",
              "    // Wait for the data to be ready.\n",
              "    let fileData = yield {\n",
              "      promise: fileDataPromise,\n",
              "      response: {\n",
              "        action: 'continue',\n",
              "      }\n",
              "    };\n",
              "\n",
              "    // Use a chunked sending to avoid message size limits. See b/62115660.\n",
              "    let position = 0;\n",
              "    do {\n",
              "      const length = Math.min(fileData.byteLength - position, MAX_PAYLOAD_SIZE);\n",
              "      const chunk = new Uint8Array(fileData, position, length);\n",
              "      position += length;\n",
              "\n",
              "      const base64 = btoa(String.fromCharCode.apply(null, chunk));\n",
              "      yield {\n",
              "        response: {\n",
              "          action: 'append',\n",
              "          file: file.name,\n",
              "          data: base64,\n",
              "        },\n",
              "      };\n",
              "\n",
              "      let percentDone = fileData.byteLength === 0 ?\n",
              "          100 :\n",
              "          Math.round((position / fileData.byteLength) * 100);\n",
              "      percent.textContent = `${percentDone}% done`;\n",
              "\n",
              "    } while (position < fileData.byteLength);\n",
              "  }\n",
              "\n",
              "  // All done.\n",
              "  yield {\n",
              "    response: {\n",
              "      action: 'complete',\n",
              "    }\n",
              "  };\n",
              "}\n",
              "\n",
              "scope.google = scope.google || {};\n",
              "scope.google.colab = scope.google.colab || {};\n",
              "scope.google.colab._files = {\n",
              "  _uploadFiles,\n",
              "  _uploadFilesContinue,\n",
              "};\n",
              "})(self);\n",
              "</script> "
            ]
          },
          "metadata": {}
        },
        {
          "output_type": "stream",
          "name": "stdout",
          "text": [
            "Saving scissors9.png to scissors9.png\n",
            "1/1 [==============================] - 0s 283ms/step\n",
            "Predicted class: Scissors\n",
            "Predicted probabilities: [[8.9516103e-02 1.3913605e-05 9.1047001e-01]]\n"
          ]
        }
      ]
    },
    {
      "cell_type": "markdown",
      "source": [
        "### **Using Intergrated camera**"
      ],
      "metadata": {
        "id": "tp5Ej_MCXkVI"
      }
    },
    {
      "cell_type": "code",
      "source": [
        "from IPython.display import display, Javascript, Image\n",
        "from google.colab.output import eval_js\n",
        "from base64 import b64decode\n",
        "import numpy as np\n",
        "from tensorflow.keras.preprocessing import image\n"
      ],
      "metadata": {
        "id": "uLy-ysHwIaFb"
      },
      "execution_count": 4,
      "outputs": []
    },
    {
      "cell_type": "code",
      "source": [
        "# Define the classes\n",
        "class_labels = ['Paper','Rock','Scissors']\n",
        "\n",
        "# Define the function for taking a photo from webcam\n",
        "def take_photo(filename='photo.jpg', quality=0.8):\n",
        "  js = Javascript('''\n",
        "    async function takePhoto(quality) {\n",
        "      const div = document.createElement('div');\n",
        "      const capture = document.createElement('button');\n",
        "      capture.textContent = 'Capture';\n",
        "      div.appendChild(capture);\n",
        "\n",
        "      const video = document.createElement('video');\n",
        "      video.style.display = 'block';\n",
        "      const stream = await navigator.mediaDevices.getUserMedia({video: true});\n",
        "\n",
        "      document.body.appendChild(div);\n",
        "      div.appendChild(video);\n",
        "      video.srcObject = stream;\n",
        "      await video.play();\n",
        "\n",
        "      // Resize the output to fit the video element.\n",
        "      google.colab.output.setIframeHeight(document.documentElement.scrollHeight, true);\n",
        "\n",
        "      // Wait for Capture to be clicked.\n",
        "      await new Promise((resolve) => capture.onclick = resolve);\n",
        "\n",
        "      const canvas = document.createElement('canvas');\n",
        "      canvas.width = video.videoWidth;\n",
        "      canvas.height = video.videoHeight;\n",
        "      canvas.getContext('2d').drawImage(video, 0, 0);\n",
        "      stream.getVideoTracks()[0].stop();\n",
        "      div.remove();\n",
        "      return canvas.toDataURL('image/jpeg', quality);\n",
        "    }\n",
        "    ''')\n",
        "  display(js)\n",
        "  data = eval_js('takePhoto({})'.format(quality))\n",
        "  binary = b64decode(data.split(',')[1])\n",
        "  with open(filename, 'wb') as f:\n",
        "    f.write(binary)\n",
        "  return filename\n",
        "\n",
        "# Function to predict class label from an image array\n",
        "def predict_class(image_array):\n",
        "    image_array = np.expand_dims(image_array, axis=0)\n",
        "    image_array /= 255.0  # Normalize pixel values\n",
        "\n",
        "    predictions = model.predict(image_array)\n",
        "    predicted_class_index = np.argmax(predictions)\n",
        "    predicted_class_label = class_labels[predicted_class_index]\n",
        "\n",
        "    return predicted_class_label, predictions\n",
        "\n",
        "try:\n",
        "    # Take a photo using the webcam\n",
        "    filename = take_photo()\n",
        "    print('Saved to {}'.format(filename))\n",
        "\n",
        "    # Load and preprocess the captured image\n",
        "    img = image.load_img(filename, target_size=(300, 300))\n",
        "    img_array = image.img_to_array(img)\n",
        "\n",
        "    # Make predictions\n",
        "    predicted_class_label, predictions = predict_class(img_array)\n",
        "\n",
        "    # Display the captured image and prediction results\n",
        "    display(Image(filename))\n",
        "    print(\"Predicted class:\", predicted_class_label)\n",
        "    print(\"Predicted labels       :\",class_labels )\n",
        "    print(\"Predicted probabilities:\", predictions )\n",
        "\n",
        "except Exception as err:\n",
        "    print(str(err))\n"
      ],
      "metadata": {
        "colab": {
          "base_uri": "https://localhost:8080/",
          "height": 589
        },
        "id": "wal2-DWrIdTC",
        "outputId": "4d65cc22-5190-4f8a-beda-d22b4208de78"
      },
      "execution_count": 29,
      "outputs": [
        {
          "output_type": "display_data",
          "data": {
            "text/plain": [
              "<IPython.core.display.Javascript object>"
            ],
            "application/javascript": [
              "\n",
              "    async function takePhoto(quality) {\n",
              "      const div = document.createElement('div');\n",
              "      const capture = document.createElement('button');\n",
              "      capture.textContent = 'Capture';\n",
              "      div.appendChild(capture);\n",
              "\n",
              "      const video = document.createElement('video');\n",
              "      video.style.display = 'block';\n",
              "      const stream = await navigator.mediaDevices.getUserMedia({video: true});\n",
              "\n",
              "      document.body.appendChild(div);\n",
              "      div.appendChild(video);\n",
              "      video.srcObject = stream;\n",
              "      await video.play();\n",
              "\n",
              "      // Resize the output to fit the video element.\n",
              "      google.colab.output.setIframeHeight(document.documentElement.scrollHeight, true);\n",
              "\n",
              "      // Wait for Capture to be clicked.\n",
              "      await new Promise((resolve) => capture.onclick = resolve);\n",
              "\n",
              "      const canvas = document.createElement('canvas');\n",
              "      canvas.width = video.videoWidth;\n",
              "      canvas.height = video.videoHeight;\n",
              "      canvas.getContext('2d').drawImage(video, 0, 0);\n",
              "      stream.getVideoTracks()[0].stop();\n",
              "      div.remove();\n",
              "      return canvas.toDataURL('image/jpeg', quality);\n",
              "    }\n",
              "    "
            ]
          },
          "metadata": {}
        },
        {
          "output_type": "stream",
          "name": "stdout",
          "text": [
            "Saved to photo.jpg\n",
            "1/1 [==============================] - 0s 20ms/step\n"
          ]
        },
        {
          "output_type": "display_data",
          "data": {
            "image/jpeg": "[encoded data removed]",
            "text/plain": [
              "<IPython.core.display.Image object>"
            ]
          },
          "metadata": {}
        },
        {
          "output_type": "stream",
          "name": "stdout",
          "text": [
            "Predicted class: Paper\n",
            "Predicted labels       : ['Paper', 'Rock', 'Scissors']\n",
            "Predicted probabilities: [[0.60735196 0.01925634 0.3733917 ]]\n"
          ]
        }
      ]
    }
  ]
}